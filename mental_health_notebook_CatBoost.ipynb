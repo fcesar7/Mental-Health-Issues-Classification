{
 "cells": [
  {
   "cell_type": "markdown",
   "metadata": {},
   "source": [
    "## Import Libraries"
   ]
  },
  {
   "cell_type": "code",
   "execution_count": 1,
   "metadata": {},
   "outputs": [],
   "source": [
    "import numpy as np\n",
    "import pandas as pd\n",
    "import os\n",
    "import matplotlib.pyplot as plt\n",
    "from ydata_profiling import ProfileReport\n",
    "from sklearn.metrics import accuracy_score\n",
    "import xgboost as xgb\n",
    "from catboost import CatBoostClassifier\n",
    "from xgboost import XGBClassifier\n",
    "from sklearn.model_selection import StratifiedKFold, GridSearchCV, cross_val_score\n",
    "import optuna\n",
    "\n",
    "import warnings\n",
    "warnings.filterwarnings('ignore')"
   ]
  },
  {
   "cell_type": "markdown",
   "metadata": {},
   "source": [
    "## Read Data"
   ]
  },
  {
   "cell_type": "code",
   "execution_count": 2,
   "metadata": {},
   "outputs": [],
   "source": [
    "path = os.getcwd() # Assuming the data and the notebook have the same path\n",
    "X_train = pd.read_csv(path + '/train.csv')\n",
    "X_test = pd.read_csv(path + '/test.csv')\n",
    "original = pd.read_csv(path + '/original.csv')\n",
    "\n",
    "# Replace spaces by underscores in the columns' titles\n",
    "X_train.columns = X_train.columns.str.replace(' ','_')\n",
    "original.columns = original.columns.str.replace(' ','_')\n",
    "X_test.columns = X_test.columns.str.replace(' ','_')\n",
    "\n",
    "id_test = X_test.index"
   ]
  },
  {
   "cell_type": "code",
   "execution_count": 3,
   "metadata": {},
   "outputs": [],
   "source": [
    "# Drop id column\n",
    "X_test = X_test.drop(['id'], axis=1)\n",
    "X_train = X_train.drop(['id'], axis=1)"
   ]
  },
  {
   "cell_type": "code",
   "execution_count": 4,
   "metadata": {},
   "outputs": [],
   "source": [
    "original['Depression'] = original['Depression'].map({'Yes': 1, 'No': 0})"
   ]
  },
  {
   "cell_type": "code",
   "execution_count": 5,
   "metadata": {},
   "outputs": [],
   "source": [
    "X_train = pd.concat([X_train,original])"
   ]
  },
  {
   "cell_type": "markdown",
   "metadata": {},
   "source": [
    "## EDA"
   ]
  },
  {
   "cell_type": "code",
   "execution_count": 6,
   "metadata": {},
   "outputs": [
    {
     "data": {
      "text/plain": [
       "(143256, 19)"
      ]
     },
     "execution_count": 6,
     "metadata": {},
     "output_type": "execute_result"
    }
   ],
   "source": [
    "# Dataset dimensions\n",
    "X_train.shape"
   ]
  },
  {
   "cell_type": "code",
   "execution_count": 7,
   "metadata": {},
   "outputs": [
    {
     "data": {
      "text/plain": [
       "Name                                      object\n",
       "Gender                                    object\n",
       "Age                                      float64\n",
       "City                                      object\n",
       "Working_Professional_or_Student           object\n",
       "Profession                                object\n",
       "Academic_Pressure                        float64\n",
       "Work_Pressure                            float64\n",
       "CGPA                                     float64\n",
       "Study_Satisfaction                       float64\n",
       "Job_Satisfaction                         float64\n",
       "Sleep_Duration                            object\n",
       "Dietary_Habits                            object\n",
       "Degree                                    object\n",
       "Have_you_ever_had_suicidal_thoughts_?     object\n",
       "Work/Study_Hours                         float64\n",
       "Financial_Stress                         float64\n",
       "Family_History_of_Mental_Illness          object\n",
       "Depression                                 int64\n",
       "dtype: object"
      ]
     },
     "execution_count": 7,
     "metadata": {},
     "output_type": "execute_result"
    }
   ],
   "source": [
    "# Data types of each column\n",
    "X_train.dtypes"
   ]
  },
  {
   "cell_type": "code",
   "execution_count": 8,
   "metadata": {},
   "outputs": [
    {
     "name": "stdout",
     "output_type": "stream",
     "text": [
      "% of depressed individuals: 18.16\n"
     ]
    },
    {
     "data": {
      "text/plain": [
       "Depression\n",
       "0    117234\n",
       "1     26022\n",
       "Name: count, dtype: int64"
      ]
     },
     "execution_count": 8,
     "metadata": {},
     "output_type": "execute_result"
    }
   ],
   "source": [
    "print(f'% of depressed individuals: {100*round(X_train[X_train['Depression']==1]['Depression'].sum()/len(X_train['Depression']),4)}')\n",
    "X_train['Depression'].value_counts()"
   ]
  },
  {
   "cell_type": "code",
   "execution_count": 9,
   "metadata": {},
   "outputs": [],
   "source": [
    "# report = ProfileReport(X_train)\n",
    "# report"
   ]
  },
  {
   "cell_type": "markdown",
   "metadata": {},
   "source": [
    "## Preprocessing"
   ]
  },
  {
   "cell_type": "markdown",
   "metadata": {},
   "source": [
    "### Duplicated Values"
   ]
  },
  {
   "cell_type": "code",
   "execution_count": 10,
   "metadata": {},
   "outputs": [
    {
     "data": {
      "text/plain": [
       "0"
      ]
     },
     "execution_count": 10,
     "metadata": {},
     "output_type": "execute_result"
    }
   ],
   "source": [
    "# Nuber of duplicated entries\n",
    "X_train[X_train.duplicated()].shape[0]"
   ]
  },
  {
   "cell_type": "markdown",
   "metadata": {},
   "source": [
    "### NaN values"
   ]
  },
  {
   "cell_type": "code",
   "execution_count": 11,
   "metadata": {},
   "outputs": [
    {
     "data": {
      "text/plain": [
       "Name                                          0\n",
       "Gender                                        0\n",
       "Age                                           0\n",
       "City                                          0\n",
       "Working_Professional_or_Student               0\n",
       "Profession                                37303\n",
       "Academic_Pressure                        114857\n",
       "Work_Pressure                             28420\n",
       "CGPA                                     114856\n",
       "Study_Satisfaction                       114857\n",
       "Job_Satisfaction                          28412\n",
       "Sleep_Duration                                0\n",
       "Dietary_Habits                                4\n",
       "Degree                                        2\n",
       "Have_you_ever_had_suicidal_thoughts_?         0\n",
       "Work/Study_Hours                              0\n",
       "Financial_Stress                              4\n",
       "Family_History_of_Mental_Illness              0\n",
       "Depression                                    0\n",
       "dtype: int64"
      ]
     },
     "execution_count": 11,
     "metadata": {},
     "output_type": "execute_result"
    }
   ],
   "source": [
    "# Count of nan values per column\n",
    "X_train.isna().sum()"
   ]
  },
  {
   "cell_type": "markdown",
   "metadata": {},
   "source": [
    "##### Profession"
   ]
  },
  {
   "cell_type": "markdown",
   "metadata": {},
   "source": [
    "There are students with professions, and we can see right away a high rate of depression for this cases (82% compared with 18% for the whole dataset). However, based on column 'Degree', this 'students' already have some form of education:"
   ]
  },
  {
   "cell_type": "code",
   "execution_count": 12,
   "metadata": {},
   "outputs": [
    {
     "name": "stdout",
     "output_type": "stream",
     "text": [
      "Depression\n",
      "1    28\n",
      "0     6\n",
      "Name: count, dtype: int64\n",
      "Degree\n",
      "MSc        4\n",
      "B.Ed       4\n",
      "MD         4\n",
      "MA         3\n",
      "BHM        3\n",
      "BSc        3\n",
      "MCA        2\n",
      "BBA        1\n",
      "M.Com      1\n",
      "B.Arch     1\n",
      "MBBS       1\n",
      "BCA        1\n",
      "LLM        1\n",
      "BA         1\n",
      "M.Pharm    1\n",
      "BE         1\n",
      "PhD        1\n",
      "B.Pharm    1\n",
      "Name: count, dtype: int64\n"
     ]
    }
   ],
   "source": [
    "print(X_train[(X_train['Working_Professional_or_Student']=='Student')&(~X_train['Profession'].isna())]['Depression'].value_counts())\n",
    "print(X_train[(X_train['Working_Professional_or_Student']=='Student')&(~X_train['Profession'].isna())]['Degree'].value_counts())"
   ]
  },
  {
   "cell_type": "markdown",
   "metadata": {},
   "source": [
    "Profession NaN values be labeled 'Unemployed' if they are professionals without jobs or 'Student' if they are pursuing some degree"
   ]
  },
  {
   "cell_type": "code",
   "execution_count": 13,
   "metadata": {},
   "outputs": [],
   "source": [
    "X_train['Profession'] = X_train.apply(\n",
    "    lambda row: 'Unemployed' if row['Working_Professional_or_Student'] == 'Working Professional' and pd.isna(row['Profession'])\n",
    "    else 'Student' if row['Working_Professional_or_Student'] == 'Student' and pd.isna(row['Profession'])\n",
    "    else row['Profession'],\n",
    "    axis=1\n",
    ")\n",
    "\n",
    "X_test['Profession'] = X_test.apply(\n",
    "    lambda row: 'Unemployed' if row['Working_Professional_or_Student'] == 'Working Professional' and pd.isna(row['Profession'])\n",
    "    else 'Student' if row['Working_Professional_or_Student'] == 'Student' and pd.isna(row['Profession'])\n",
    "    else row['Profession'],\n",
    "    axis=1\n",
    ")"
   ]
  },
  {
   "cell_type": "markdown",
   "metadata": {},
   "source": [
    "##### Academic Pressure"
   ]
  },
  {
   "cell_type": "markdown",
   "metadata": {},
   "source": [
    "Excluding the following cases, Academic Pressure is only applicable to students:"
   ]
  },
  {
   "cell_type": "code",
   "execution_count": 14,
   "metadata": {},
   "outputs": [
    {
     "data": {
      "text/html": [
       "<div>\n",
       "<style scoped>\n",
       "    .dataframe tbody tr th:only-of-type {\n",
       "        vertical-align: middle;\n",
       "    }\n",
       "\n",
       "    .dataframe tbody tr th {\n",
       "        vertical-align: top;\n",
       "    }\n",
       "\n",
       "    .dataframe thead th {\n",
       "        text-align: right;\n",
       "    }\n",
       "</style>\n",
       "<table border=\"1\" class=\"dataframe\">\n",
       "  <thead>\n",
       "    <tr style=\"text-align: right;\">\n",
       "      <th></th>\n",
       "      <th>Name</th>\n",
       "      <th>Gender</th>\n",
       "      <th>Age</th>\n",
       "      <th>City</th>\n",
       "      <th>Working_Professional_or_Student</th>\n",
       "      <th>Profession</th>\n",
       "      <th>Academic_Pressure</th>\n",
       "      <th>Work_Pressure</th>\n",
       "      <th>CGPA</th>\n",
       "      <th>Study_Satisfaction</th>\n",
       "      <th>Job_Satisfaction</th>\n",
       "      <th>Sleep_Duration</th>\n",
       "      <th>Dietary_Habits</th>\n",
       "      <th>Degree</th>\n",
       "      <th>Have_you_ever_had_suicidal_thoughts_?</th>\n",
       "      <th>Work/Study_Hours</th>\n",
       "      <th>Financial_Stress</th>\n",
       "      <th>Family_History_of_Mental_Illness</th>\n",
       "      <th>Depression</th>\n",
       "    </tr>\n",
       "  </thead>\n",
       "  <tbody>\n",
       "    <tr>\n",
       "      <th>18752</th>\n",
       "      <td>Aarti</td>\n",
       "      <td>Female</td>\n",
       "      <td>18.0</td>\n",
       "      <td>Kalyan</td>\n",
       "      <td>Working Professional</td>\n",
       "      <td>Unemployed</td>\n",
       "      <td>2.0</td>\n",
       "      <td>NaN</td>\n",
       "      <td>8.14</td>\n",
       "      <td>5.0</td>\n",
       "      <td>NaN</td>\n",
       "      <td>Less than 5 hours</td>\n",
       "      <td>Healthy</td>\n",
       "      <td>Class 12</td>\n",
       "      <td>Yes</td>\n",
       "      <td>7.0</td>\n",
       "      <td>1.0</td>\n",
       "      <td>Yes</td>\n",
       "      <td>1</td>\n",
       "    </tr>\n",
       "    <tr>\n",
       "      <th>41915</th>\n",
       "      <td>Advait</td>\n",
       "      <td>Male</td>\n",
       "      <td>18.0</td>\n",
       "      <td>Kolkata</td>\n",
       "      <td>Working Professional</td>\n",
       "      <td>Unemployed</td>\n",
       "      <td>4.0</td>\n",
       "      <td>NaN</td>\n",
       "      <td>8.04</td>\n",
       "      <td>3.0</td>\n",
       "      <td>NaN</td>\n",
       "      <td>5-6 hours</td>\n",
       "      <td>Healthy</td>\n",
       "      <td>Class 12</td>\n",
       "      <td>Yes</td>\n",
       "      <td>1.0</td>\n",
       "      <td>5.0</td>\n",
       "      <td>Yes</td>\n",
       "      <td>1</td>\n",
       "    </tr>\n",
       "    <tr>\n",
       "      <th>55827</th>\n",
       "      <td>Prachi</td>\n",
       "      <td>Female</td>\n",
       "      <td>19.0</td>\n",
       "      <td>Kalyan</td>\n",
       "      <td>Working Professional</td>\n",
       "      <td>Unemployed</td>\n",
       "      <td>3.0</td>\n",
       "      <td>NaN</td>\n",
       "      <td>8.11</td>\n",
       "      <td>2.0</td>\n",
       "      <td>NaN</td>\n",
       "      <td>5-6 hours</td>\n",
       "      <td>Unhealthy</td>\n",
       "      <td>Class 12</td>\n",
       "      <td>Yes</td>\n",
       "      <td>4.0</td>\n",
       "      <td>4.0</td>\n",
       "      <td>No</td>\n",
       "      <td>1</td>\n",
       "    </tr>\n",
       "    <tr>\n",
       "      <th>99062</th>\n",
       "      <td>Tanisha</td>\n",
       "      <td>Female</td>\n",
       "      <td>24.0</td>\n",
       "      <td>Surat</td>\n",
       "      <td>Working Professional</td>\n",
       "      <td>Content Writer</td>\n",
       "      <td>4.0</td>\n",
       "      <td>NaN</td>\n",
       "      <td>5.42</td>\n",
       "      <td>4.0</td>\n",
       "      <td>NaN</td>\n",
       "      <td>Less than 5 hours</td>\n",
       "      <td>Moderate</td>\n",
       "      <td>B.Ed</td>\n",
       "      <td>Yes</td>\n",
       "      <td>1.0</td>\n",
       "      <td>5.0</td>\n",
       "      <td>No</td>\n",
       "      <td>1</td>\n",
       "    </tr>\n",
       "    <tr>\n",
       "      <th>101189</th>\n",
       "      <td>Keshav</td>\n",
       "      <td>Male</td>\n",
       "      <td>34.0</td>\n",
       "      <td>Rajkot</td>\n",
       "      <td>Working Professional</td>\n",
       "      <td>Unemployed</td>\n",
       "      <td>4.0</td>\n",
       "      <td>NaN</td>\n",
       "      <td>8.24</td>\n",
       "      <td>3.0</td>\n",
       "      <td>NaN</td>\n",
       "      <td>More than 8 hours</td>\n",
       "      <td>Moderate</td>\n",
       "      <td>MD</td>\n",
       "      <td>No</td>\n",
       "      <td>11.0</td>\n",
       "      <td>1.0</td>\n",
       "      <td>No</td>\n",
       "      <td>0</td>\n",
       "    </tr>\n",
       "  </tbody>\n",
       "</table>\n",
       "</div>"
      ],
      "text/plain": [
       "           Name  Gender   Age     City Working_Professional_or_Student  \\\n",
       "18752     Aarti  Female  18.0   Kalyan            Working Professional   \n",
       "41915    Advait    Male  18.0  Kolkata            Working Professional   \n",
       "55827    Prachi  Female  19.0   Kalyan            Working Professional   \n",
       "99062   Tanisha  Female  24.0    Surat            Working Professional   \n",
       "101189   Keshav    Male  34.0   Rajkot            Working Professional   \n",
       "\n",
       "            Profession  Academic_Pressure  Work_Pressure  CGPA  \\\n",
       "18752       Unemployed                2.0            NaN  8.14   \n",
       "41915       Unemployed                4.0            NaN  8.04   \n",
       "55827       Unemployed                3.0            NaN  8.11   \n",
       "99062   Content Writer                4.0            NaN  5.42   \n",
       "101189      Unemployed                4.0            NaN  8.24   \n",
       "\n",
       "        Study_Satisfaction  Job_Satisfaction     Sleep_Duration  \\\n",
       "18752                  5.0               NaN  Less than 5 hours   \n",
       "41915                  3.0               NaN          5-6 hours   \n",
       "55827                  2.0               NaN          5-6 hours   \n",
       "99062                  4.0               NaN  Less than 5 hours   \n",
       "101189                 3.0               NaN  More than 8 hours   \n",
       "\n",
       "       Dietary_Habits    Degree Have_you_ever_had_suicidal_thoughts_?  \\\n",
       "18752         Healthy  Class 12                                   Yes   \n",
       "41915         Healthy  Class 12                                   Yes   \n",
       "55827       Unhealthy  Class 12                                   Yes   \n",
       "99062        Moderate      B.Ed                                   Yes   \n",
       "101189       Moderate        MD                                    No   \n",
       "\n",
       "        Work/Study_Hours  Financial_Stress Family_History_of_Mental_Illness  \\\n",
       "18752                7.0               1.0                              Yes   \n",
       "41915                1.0               5.0                              Yes   \n",
       "55827                4.0               4.0                               No   \n",
       "99062                1.0               5.0                               No   \n",
       "101189              11.0               1.0                               No   \n",
       "\n",
       "        Depression  \n",
       "18752            1  \n",
       "41915            1  \n",
       "55827            1  \n",
       "99062            1  \n",
       "101189           0  "
      ]
     },
     "execution_count": 14,
     "metadata": {},
     "output_type": "execute_result"
    }
   ],
   "source": [
    "X_train[(X_train['Working_Professional_or_Student']=='Working Professional')&(~X_train['Academic_Pressure'].isna())]"
   ]
  },
  {
   "cell_type": "markdown",
   "metadata": {},
   "source": [
    "However, there are a few cases of NaN values for Academic Pressure for students:"
   ]
  },
  {
   "cell_type": "code",
   "execution_count": 15,
   "metadata": {},
   "outputs": [
    {
     "data": {
      "text/plain": [
       "9"
      ]
     },
     "execution_count": 15,
     "metadata": {},
     "output_type": "execute_result"
    }
   ],
   "source": [
    "X_train[(X_train['Working_Professional_or_Student']=='Student')&(X_train['Academic_Pressure'].isna())].shape[0]"
   ]
  },
  {
   "cell_type": "markdown",
   "metadata": {},
   "source": [
    "NaN values in students will be labeled with the mean of the Academic Pressure for each Degree, and Working Professionals will be labeled with 0"
   ]
  },
  {
   "cell_type": "code",
   "execution_count": 16,
   "metadata": {},
   "outputs": [],
   "source": [
    "ap_median = X_train['Academic_Pressure'].median()\n",
    "\n",
    "X_train['Academic_Pressure'] = X_train.apply(\n",
    "    lambda row: 0 if row['Working_Professional_or_Student'] == 'Working Professional' and pd.isna(row['Academic_Pressure'])\n",
    "    else ap_median if row['Working_Professional_or_Student'] == 'Student' and pd.isna(row['Academic_Pressure'])\n",
    "    else row['Academic_Pressure'],\n",
    "    axis=1\n",
    ")\n",
    "\n",
    "X_test['Academic_Pressure'] = X_test.apply(\n",
    "    lambda row: 0 if row['Working_Professional_or_Student'] == 'Working Professional' and pd.isna(row['Academic_Pressure'])\n",
    "    else ap_median if row['Working_Professional_or_Student'] == 'Student' and pd.isna(row['Academic_Pressure'])\n",
    "    else row['Academic_Pressure'],\n",
    "    axis=1\n",
    ")"
   ]
  },
  {
   "cell_type": "markdown",
   "metadata": {},
   "source": [
    "##### Work_Pressure"
   ]
  },
  {
   "cell_type": "markdown",
   "metadata": {},
   "source": [
    "Besides the students, most NaN values of Work Pressure are mostly for unemployed professionals"
   ]
  },
  {
   "cell_type": "code",
   "execution_count": 17,
   "metadata": {},
   "outputs": [
    {
     "name": "stdout",
     "output_type": "stream",
     "text": [
      "20\n"
     ]
    },
    {
     "data": {
      "text/plain": [
       "Profession\n",
       "Unemployed             18\n",
       "Mechanical Engineer     1\n",
       "Content Writer          1\n",
       "Name: count, dtype: int64"
      ]
     },
     "execution_count": 17,
     "metadata": {},
     "output_type": "execute_result"
    }
   ],
   "source": [
    "print(X_train[(X_train['Working_Professional_or_Student']=='Working Professional')&(X_train['Work_Pressure'].isna())].shape[0])\n",
    "X_train[(X_train['Working_Professional_or_Student']=='Working Professional')&(X_train['Work_Pressure'].isna())]['Profession'].value_counts()"
   ]
  },
  {
   "cell_type": "markdown",
   "metadata": {},
   "source": [
    "We will fill with 0 if profession is 'Not Applicable' (Students) or 'Unemployed'. Else we will fill with the median"
   ]
  },
  {
   "cell_type": "code",
   "execution_count": 18,
   "metadata": {},
   "outputs": [],
   "source": [
    "wp_median = X_train['Work_Pressure'].median()\n",
    "\n",
    "X_train['Work_Pressure'] = X_train.apply(\n",
    "    lambda row: 0 if row['Profession'] in ['Not Applicable', 'Unemployed'] and pd.isna(row['Work_Pressure'])\n",
    "    else wp_median if pd.isna(row['Work_Pressure'])\n",
    "    else row['Work_Pressure'],\n",
    "    axis=1\n",
    ")\n",
    "\n",
    "X_test['Work_Pressure'] = X_test.apply(\n",
    "    lambda row: 0 if row['Profession'] in ['Not Applicable', 'Unemployed'] and pd.isna(row['Work_Pressure'])\n",
    "    else wp_median if pd.isna(row['Work_Pressure'])\n",
    "    else row['Work_Pressure'],\n",
    "    axis=1\n",
    ")"
   ]
  },
  {
   "cell_type": "markdown",
   "metadata": {},
   "source": [
    "##### CGPA"
   ]
  },
  {
   "cell_type": "markdown",
   "metadata": {},
   "source": [
    "Most cases of NaN CGPA values are for Working Professionals. We will label these cases as 0 and as the median for the students "
   ]
  },
  {
   "cell_type": "code",
   "execution_count": 19,
   "metadata": {},
   "outputs": [
    {
     "data": {
      "text/plain": [
       "Working_Professional_or_Student\n",
       "Working Professional    114847\n",
       "Student                      9\n",
       "Name: count, dtype: int64"
      ]
     },
     "execution_count": 19,
     "metadata": {},
     "output_type": "execute_result"
    }
   ],
   "source": [
    "X_train[X_train['CGPA'].isna()]['Working_Professional_or_Student'].value_counts()"
   ]
  },
  {
   "cell_type": "code",
   "execution_count": 20,
   "metadata": {},
   "outputs": [],
   "source": [
    "cgpa_median = X_train['CGPA'].median()\n",
    "\n",
    "\n",
    "X_train['CGPA'] = X_train.apply(\n",
    "    lambda row: 0 if row['Working_Professional_or_Student'] == 'Working Professional' and pd.isna(row['CGPA'])\n",
    "    else cgpa_median if pd.isna(row['CGPA'])\n",
    "    else row['CGPA'],\n",
    "    axis=1\n",
    ")\n",
    "\n",
    "X_test['CGPA'] = X_test.apply(\n",
    "    lambda row: 0 if row['Working_Professional_or_Student'] == 'Working Professional' and pd.isna(row['CGPA'])\n",
    "    else cgpa_median if pd.isna(row['CGPA'])\n",
    "    else row['CGPA'],\n",
    "    axis=1\n",
    ")"
   ]
  },
  {
   "cell_type": "markdown",
   "metadata": {},
   "source": [
    "##### Study Satisfaction"
   ]
  },
  {
   "cell_type": "code",
   "execution_count": 21,
   "metadata": {},
   "outputs": [
    {
     "data": {
      "text/plain": [
       "Working_Professional_or_Student\n",
       "Working Professional    114847\n",
       "Student                     10\n",
       "Name: count, dtype: int64"
      ]
     },
     "execution_count": 21,
     "metadata": {},
     "output_type": "execute_result"
    }
   ],
   "source": [
    "X_train[X_train['Study_Satisfaction'].isna()]['Working_Professional_or_Student'].value_counts()"
   ]
  },
  {
   "cell_type": "markdown",
   "metadata": {},
   "source": [
    "Again, NaN values for Students will be replaced by the median, and with 0 for the Working Professionals"
   ]
  },
  {
   "cell_type": "code",
   "execution_count": 22,
   "metadata": {},
   "outputs": [],
   "source": [
    "study_median = X_train['Study_Satisfaction'].median()\n",
    "\n",
    "\n",
    "X_train['Study_Satisfaction'] = X_train.apply(\n",
    "    lambda row: 0 if row['Working_Professional_or_Student'] == 'Working Professional' and pd.isna(row['Study_Satisfaction'])\n",
    "    else study_median if pd.isna(row['Study_Satisfaction'])\n",
    "    else row['Study_Satisfaction'],\n",
    "    axis=1\n",
    ")\n",
    "\n",
    "X_test['Study_Satisfaction'] = X_test.apply(\n",
    "    lambda row: 0 if row['Working_Professional_or_Student'] == 'Working Professional' and pd.isna(row['Study_Satisfaction'])\n",
    "    else study_median if pd.isna(row['Study_Satisfaction'])\n",
    "    else row['Study_Satisfaction'],\n",
    "    axis=1\n",
    ")"
   ]
  },
  {
   "cell_type": "markdown",
   "metadata": {},
   "source": [
    "##### Job Satisfaction"
   ]
  },
  {
   "cell_type": "code",
   "execution_count": 23,
   "metadata": {},
   "outputs": [
    {
     "data": {
      "text/plain": [
       "Working_Professional_or_Student\n",
       "Student                 28395\n",
       "Working Professional       17\n",
       "Name: count, dtype: int64"
      ]
     },
     "execution_count": 23,
     "metadata": {},
     "output_type": "execute_result"
    }
   ],
   "source": [
    "X_train[X_train['Job_Satisfaction'].isna()]['Working_Professional_or_Student'].value_counts()"
   ]
  },
  {
   "cell_type": "markdown",
   "metadata": {},
   "source": [
    "The other way around:"
   ]
  },
  {
   "cell_type": "code",
   "execution_count": 24,
   "metadata": {},
   "outputs": [],
   "source": [
    "job_median = X_train['Job_Satisfaction'].median()\n",
    "\n",
    "\n",
    "X_train['Job_Satisfaction'] = X_train.apply(\n",
    "    lambda row: 0 if row['Working_Professional_or_Student'] == 'Working Professional' and pd.isna(row['Job_Satisfaction'])\n",
    "    else job_median if pd.isna(row['Job_Satisfaction'])\n",
    "    else row['Job_Satisfaction'],\n",
    "    axis=1\n",
    ")\n",
    "\n",
    "X_test['Job_Satisfaction'] = X_test.apply(\n",
    "    lambda row: 0 if row['Working_Professional_or_Student'] == 'Working Professional' and pd.isna(row['Job_Satisfaction'])\n",
    "    else job_median if pd.isna(row['Job_Satisfaction'])\n",
    "    else row['Job_Satisfaction'],\n",
    "    axis=1\n",
    ")"
   ]
  },
  {
   "cell_type": "markdown",
   "metadata": {},
   "source": [
    "##### Remaining columns - Mode if categorical, Median if numerical"
   ]
  },
  {
   "cell_type": "markdown",
   "metadata": {},
   "source": [
    "More than 99% of column 'Dietary_Habits' are either 'Moderate', 'Unhealthy' or 'Healthy'. The other values are probably inputation mistakes and will be replaced by NaN and then by the mode"
   ]
  },
  {
   "cell_type": "code",
   "execution_count": 25,
   "metadata": {},
   "outputs": [],
   "source": [
    "dietary_values = ['Unhealthy', 'Moderate', 'Healthy']\n",
    "X_train['Dietary_Habits'] = np.where(X_train['Dietary_Habits'].isin(dietary_values), \n",
    "                                X_train['Dietary_Habits'], \n",
    "                                np.nan)\n",
    "\n",
    "dietary_values = ['Unhealthy', 'Moderate', 'Healthy']\n",
    "X_test['Dietary_Habits'] = np.where(X_test['Dietary_Habits'].isin(dietary_values), \n",
    "                                X_test['Dietary_Habits'], \n",
    "                                np.nan)"
   ]
  },
  {
   "cell_type": "markdown",
   "metadata": {},
   "source": [
    "There are some errors in the name of the Degree for a few cases"
   ]
  },
  {
   "cell_type": "code",
   "execution_count": 26,
   "metadata": {},
   "outputs": [],
   "source": [
    "X_train['Degree'] = X_train['Degree'].replace('BTech', 'B.Tech')\n",
    "X_train['Degree'] = X_train['Degree'].replace('BPharm', 'B.Pharm')\n",
    "X_train['Degree'] = X_train['Degree'].replace('LL B.Ed', 'B.Ed')\n",
    "X_train['Degree'] = X_train['Degree'].replace('B B.Tech', 'B.Tech')\n",
    "X_train['Degree'] = X_train['Degree'].replace('MPharm', 'M.Pharm')\n",
    "\n",
    "X_test['Degree'] = X_test['Degree'].replace('BTech', 'B.Tech')\n",
    "X_test['Degree'] = X_test['Degree'].replace('BPharm', 'B.Pharm')\n",
    "X_test['Degree'] = X_test['Degree'].replace('LL B.Ed', 'B.Ed')\n",
    "X_test['Degree'] = X_test['Degree'].replace('B B.Tech', 'B.Tech')\n",
    "X_test['Degree'] = X_test['Degree'].replace('MPharm', 'M.Pharm')"
   ]
  },
  {
   "cell_type": "markdown",
   "metadata": {},
   "source": [
    "For sleep duration column, there are 4 values that account for more than 99% of the column. we will change the sleep duration to <5 hours, 5-7 hours, 7-8 hours, or >8 hours, and remove other rows"
   ]
  },
  {
   "cell_type": "code",
   "execution_count": 27,
   "metadata": {},
   "outputs": [],
   "source": [
    "X_train['Sleep_Duration'] = X_train['Sleep_Duration'].replace('5-6 hours', '5-7 hours')\n",
    "X_train['Sleep_Duration'] = X_train['Sleep_Duration'].replace('6-7 hours', '5-7 hours')\n",
    "X_train['Sleep_Duration'] = X_train['Sleep_Duration'].replace('3-4 hours', 'Less than 5 hours')\n",
    "X_train['Sleep_Duration'] = X_train['Sleep_Duration'].replace('4-5 hours', 'Less than 5 hours')\n",
    "X_train['Sleep_Duration'] = X_train['Sleep_Duration'].replace('2-3 hours', 'Less than 5 hours')\n",
    "X_train['Sleep_Duration'] = X_train['Sleep_Duration'].replace('4-6 hours', 'Less than 5 hours')\n",
    "X_train['Sleep_Duration'] = X_train['Sleep_Duration'].replace('6-8 hours', '7-8 hours')\n",
    "X_train['Sleep_Duration'] = X_train['Sleep_Duration'].replace('1-6 hours', 'Less than 5 hours')\n",
    "X_train['Sleep_Duration'] = X_train['Sleep_Duration'].replace('8-9 hours', 'More than 8 hours')\n",
    "\n",
    "X_test['Sleep_Duration'] = X_test['Sleep_Duration'].replace('5-6 hours', '5-7 hours')\n",
    "X_test['Sleep_Duration'] = X_test['Sleep_Duration'].replace('6-7 hours', '5-7 hours')\n",
    "X_test['Sleep_Duration'] = X_test['Sleep_Duration'].replace('3-4 hours', 'Less than 5 hours')\n",
    "X_test['Sleep_Duration'] = X_test['Sleep_Duration'].replace('4-5 hours', 'Less than 5 hours')\n",
    "X_test['Sleep_Duration'] = X_test['Sleep_Duration'].replace('2-3 hours', 'Less than 5 hours')\n",
    "X_test['Sleep_Duration'] = X_test['Sleep_Duration'].replace('4-6 hours', 'Less than 5 hours')\n",
    "X_test['Sleep_Duration'] = X_test['Sleep_Duration'].replace('6-8 hours', '7-8 hours')\n",
    "X_test['Sleep_Duration'] = X_test['Sleep_Duration'].replace('1-6 hours', 'Less than 5 hours')\n",
    "X_test['Sleep_Duration'] = X_test['Sleep_Duration'].replace('8-9 hours', 'More than 8 hours')"
   ]
  },
  {
   "cell_type": "code",
   "execution_count": 28,
   "metadata": {},
   "outputs": [],
   "source": [
    "sleep_values = ['Less than 5 hours','5-7 hours','7-8 hours','More than 8 hours']\n",
    "\n",
    "X_train['Sleep_Duration'] = np.where(X_train['Sleep_Duration'].isin(sleep_values), \n",
    "                                X_train['Sleep_Duration'], \n",
    "                                np.nan)\n",
    "\n",
    "X_test['Sleep_Duration'] = np.where(X_test['Sleep_Duration'].isin(sleep_values), \n",
    "                                X_test['Sleep_Duration'], \n",
    "                                np.nan)"
   ]
  },
  {
   "cell_type": "markdown",
   "metadata": {},
   "source": [
    "Replace NaN values with mode for categorical columns and with median for numerical columns"
   ]
  },
  {
   "cell_type": "code",
   "execution_count": 29,
   "metadata": {},
   "outputs": [],
   "source": [
    "def replace_nan(X_train, column_name):\n",
    "    if X_train[column_name].isna().sum() == 0:\n",
    "        return # Exits the function if there are no NaN values in the column\n",
    "\n",
    "    if X_train[column_name].dtype=='O':\n",
    "        X_train[column_name] = X_train.apply(\n",
    "            lambda row:  X_train[column_name].mode()[0] if pd.isna(row[column_name])\n",
    "            else row[column_name],\n",
    "            axis=1\n",
    "        )\n",
    "    if X_train[column_name].dtype=='float64':\n",
    "        col_median = X_train[column_name].median()\n",
    "        X_train[column_name] = X_train.apply(\n",
    "            lambda row:  col_median if pd.isna(row[column_name])\n",
    "            else row[column_name],\n",
    "            axis=1\n",
    "        )"
   ]
  },
  {
   "cell_type": "code",
   "execution_count": 30,
   "metadata": {},
   "outputs": [],
   "source": [
    "replace_nan(X_train, 'Dietary_Habits')\n",
    "replace_nan(X_train, 'Degree')\n",
    "replace_nan(X_train, 'Financial_Stress')\n",
    "replace_nan(X_train, 'Sleep_Duration')\n",
    "\n",
    "replace_nan(X_test, 'Dietary_Habits')\n",
    "replace_nan(X_test, 'Degree')\n",
    "replace_nan(X_test, 'Financial_Stress')\n",
    "replace_nan(X_test, 'Sleep_Duration')"
   ]
  },
  {
   "cell_type": "markdown",
   "metadata": {},
   "source": [
    "## Feature Engineering"
   ]
  },
  {
   "cell_type": "markdown",
   "metadata": {},
   "source": [
    "Columns Sleep_Duration and Dietary_Habits are ordinal data, and can be converted to integers"
   ]
  },
  {
   "cell_type": "code",
   "execution_count": null,
   "metadata": {},
   "outputs": [],
   "source": [
    "def map_sleep(X):\n",
    "    sleep_duration_mapping = {\n",
    "        'Less than 5 hours': 0,\n",
    "        '5-7 hours': 1,\n",
    "        '7-8 hours': 2,\n",
    "        'More than 8 hours': 3\n",
    "    }\n",
    "\n",
    "    X['Sleep_Duration'] = X['Sleep_Duration'].map(sleep_duration_mapping)\n",
    "\n",
    "map_sleep(X_train)\n",
    "map_sleep(X_test)"
   ]
  },
  {
   "cell_type": "code",
   "execution_count": null,
   "metadata": {},
   "outputs": [],
   "source": [
    "def map_diet(X):\n",
    "    dietary_mapping = {\n",
    "        'Unhealthy': 0,\n",
    "        'Moderate': 1,\n",
    "        'Healthy': 2\n",
    "    }\n",
    "\n",
    "    X['Dietary_Habits'] = X['Dietary_Habits'].map(dietary_mapping)\n",
    "\n",
    "map_diet(X_train)\n",
    "map_diet(X_test)"
   ]
  },
  {
   "cell_type": "code",
   "execution_count": null,
   "metadata": {},
   "outputs": [
    {
     "name": "stdout",
     "output_type": "stream",
     "text": [
      "                                       Unique Values Data Type\n",
      "Name                                             422    object\n",
      "Gender                                             2    object\n",
      "Age                                               43   float64\n",
      "City                                              98    object\n",
      "Working_Professional_or_Student                    2    object\n",
      "Profession                                        64    object\n",
      "Academic_Pressure                                  6   float64\n",
      "Work_Pressure                                      6   float64\n",
      "CGPA                                             332   float64\n",
      "Study_Satisfaction                                 6   float64\n",
      "Job_Satisfaction                                   6   float64\n",
      "Sleep_Duration                                     4     int64\n",
      "Dietary_Habits                                     3     int64\n",
      "Degree                                           112    object\n",
      "Have_you_ever_had_suicidal_thoughts_?              2    object\n",
      "Work/Study_Hours                                  13   float64\n",
      "Financial_Stress                                   5   float64\n",
      "Family_History_of_Mental_Illness                   2    object\n",
      "Depression                                         2     int64\n"
     ]
    }
   ],
   "source": [
    "unique_counts = X_train.nunique()\n",
    "\n",
    "# Get the data types of each column\n",
    "column_dtypes = X_train.dtypes\n",
    "\n",
    "# Combine both into a DataFrame for easier viewing\n",
    "summary = pd.DataFrame({\n",
    "    'Unique Values': unique_counts,\n",
    "    'Data Type': column_dtypes\n",
    "})\n",
    "\n",
    "# Display the summary\n",
    "print(summary)"
   ]
  },
  {
   "cell_type": "markdown",
   "metadata": {},
   "source": [
    "## Model Implementation"
   ]
  },
  {
   "cell_type": "code",
   "execution_count": 34,
   "metadata": {},
   "outputs": [],
   "source": [
    "y_train = X_train.iloc[:,-1]\n",
    "X_train = X_train.iloc[:,:-1]"
   ]
  },
  {
   "cell_type": "code",
   "execution_count": 35,
   "metadata": {},
   "outputs": [
    {
     "data": {
      "text/plain": [
       "Name                                      object\n",
       "Gender                                    object\n",
       "Age                                      float64\n",
       "City                                      object\n",
       "Working_Professional_or_Student           object\n",
       "Profession                                object\n",
       "Academic_Pressure                        float64\n",
       "Work_Pressure                            float64\n",
       "CGPA                                     float64\n",
       "Study_Satisfaction                       float64\n",
       "Job_Satisfaction                         float64\n",
       "Sleep_Duration                             int64\n",
       "Dietary_Habits                             int64\n",
       "Degree                                    object\n",
       "Have_you_ever_had_suicidal_thoughts_?     object\n",
       "Work/Study_Hours                         float64\n",
       "Financial_Stress                         float64\n",
       "Family_History_of_Mental_Illness          object\n",
       "dtype: object"
      ]
     },
     "execution_count": 35,
     "metadata": {},
     "output_type": "execute_result"
    }
   ],
   "source": [
    "X_train.dtypes"
   ]
  },
  {
   "cell_type": "code",
   "execution_count": 36,
   "metadata": {},
   "outputs": [],
   "source": [
    "# Convert categorical columns to 'category' dtype for the XGBoost model\n",
    "categorical_columns = ['Name','Gender', 'City', 'Working_Professional_or_Student', 'Profession', \n",
    "                       'Degree', 'Have_you_ever_had_suicidal_thoughts_?', 'Family_History_of_Mental_Illness']\n",
    "\n",
    "for col in categorical_columns:\n",
    "    X_train[col] = X_train[col].astype('category')\n",
    "\n",
    "for col in categorical_columns:\n",
    "    X_test[col] = X_test[col].astype('category')"
   ]
  },
  {
   "cell_type": "markdown",
   "metadata": {},
   "source": [
    "### CatBoost"
   ]
  },
  {
   "cell_type": "markdown",
   "metadata": {},
   "source": [
    "Here we apply CatBoost with optuna to perform a grid search. The results of the grid search are available below"
   ]
  },
  {
   "cell_type": "code",
   "execution_count": 38,
   "metadata": {},
   "outputs": [
    {
     "name": "stderr",
     "output_type": "stream",
     "text": [
      "[I 2024-12-02 16:00:24,362] A new study created in memory with name: no-name-d342ca73-3083-4be8-9745-63b44003b7bb\n"
     ]
    },
    {
     "data": {
      "application/vnd.jupyter.widget-view+json": {
       "model_id": "de203f7a4c3b41cd9ac22a07c6757c4d",
       "version_major": 2,
       "version_minor": 0
      },
      "text/plain": [
       "  0%|          | 0/30 [00:00<?, ?it/s]"
      ]
     },
     "metadata": {},
     "output_type": "display_data"
    },
    {
     "name": "stdout",
     "output_type": "stream",
     "text": [
      "[0.9407371213178836, 0.9416445623342176, 0.9414351528689097, 0.9392712550607287, 0.9459723579505793, 0.9387826329750105, 0.9418499127399651, 0.9386387434554974, 0.9415008726003491, 0.9405235602094241]\n",
      "[I 2024-12-02 16:29:23,473] Trial 0 finished with value: 0.9410356171512566 and parameters: {'depth': 10, 'learning_rate': 0.03, 'iterations': 1500}. Best is trial 0 with value: 0.9410356171512566.\n",
      "[0.9396202708362418, 0.9417143654893201, 0.9405975150076783, 0.9377355856484713, 0.9449951137791428, 0.9396202708362418, 0.9415706806282722, 0.9384991273996509, 0.9422687609075043, 0.9405933682373473]\n",
      "[I 2024-12-02 16:40:37,436] Trial 1 finished with value: 0.9407215058769871 and parameters: {'depth': 3, 'learning_rate': 0.03, 'iterations': 1500}. Best is trial 0 with value: 0.9410356171512566.\n",
      "[0.9396900739913444, 0.9420633812648331, 0.9417143654893201, 0.9382242077341896, 0.9461119642607846, 0.9407371213178836, 0.9415008726003491, 0.9400349040139616, 0.9419895287958115, 0.9407329842931937]\n",
      "[I 2024-12-02 16:51:51,066] Trial 2 finished with value: 0.9412799403761671 and parameters: {'depth': 3, 'learning_rate': 0.1, 'iterations': 1500}. Best is trial 2 with value: 0.9412799403761671.\n",
      "[0.941923774954628, 0.9421331844199358, 0.9419935781097306, 0.938852436130113, 0.9457629484852715, 0.9404579086974731, 0.9415008726003491, 0.9386387434554974, 0.9412216404886562, 0.941151832460733]\n",
      "[I 2024-12-02 17:03:37,663] Trial 3 finished with value: 0.9413636919802387 and parameters: {'depth': 6, 'learning_rate': 0.1, 'iterations': 1100}. Best is trial 3 with value: 0.9413636919802387.\n",
      "[0.9398296803015497, 0.9421331844199358, 0.9415747591791149, 0.9363395225464191, 0.9443668853832193, 0.9387128298199079, 0.9402443280977313, 0.9370331588132635, 0.9408726003490402, 0.9404537521815008]\n",
      "[I 2024-12-02 17:31:28,206] Trial 4 finished with value: 0.9401560701091682 and parameters: {'depth': 10, 'learning_rate': 0.3, 'iterations': 1500}. Best is trial 3 with value: 0.9413636919802387.\n",
      "[0.939410861370934, 0.9415049560240123, 0.9398994834566522, 0.9366885383219321, 0.9442970822281167, 0.938852436130113, 0.9403839441535776, 0.9368935427574171, 0.9417102966841187, 0.9389877835951135]\n",
      "[I 2024-12-02 17:36:34,637] Trial 5 finished with value: 0.9398628924721987 and parameters: {'depth': 3, 'learning_rate': 0.03, 'iterations': 800}. Best is trial 3 with value: 0.9413636919802387.\n",
      "[0.9396202708362418, 0.9416445623342176, 0.9405975150076783, 0.9377355856484713, 0.9449951137791428, 0.939410861370934, 0.9413612565445026, 0.937870855148342, 0.9422687609075043, 0.9402443280977313]\n",
      "[I 2024-12-02 17:45:13,703] Trial 6 finished with value: 0.9405749109674767 and parameters: {'depth': 3, 'learning_rate': 0.03, 'iterations': 1300}. Best is trial 3 with value: 0.9413636919802387.\n",
      "[0.9410861370933966, 0.9429708222811671, 0.9416445623342176, 0.9378053888035739, 0.9456931453301689, 0.9401088929219601, 0.9421989528795811, 0.9389179755671903, 0.9415008726003491, 0.9427574171029668]\n",
      "[I 2024-12-02 17:54:01,891] Trial 7 finished with value: 0.9414684166914572 and parameters: {'depth': 6, 'learning_rate': 0.3, 'iterations': 800}. Best is trial 7 with value: 0.9414684166914572.\n",
      "[0.9407371213178836, 0.9416445623342176, 0.9414351528689097, 0.9392712550607287, 0.9459723579505793, 0.9387826329750105, 0.9418499127399651, 0.9386387434554974, 0.9415008726003491, 0.9405235602094241]\n",
      "[I 2024-12-02 18:27:42,166] Trial 8 finished with value: 0.9410356171512566 and parameters: {'depth': 10, 'learning_rate': 0.03, 'iterations': 1500}. Best is trial 7 with value: 0.9414684166914572.\n",
      "[0.9409465307831913, 0.9429010191260645, 0.9415747591791149, 0.9392014519056261, 0.9456233421750663, 0.9417841686444227, 0.9415706806282722, 0.9392670157068063, 0.942129144851658, 0.9410820244328097]\n",
      "[I 2024-12-02 18:39:41,351] Trial 9 finished with value: 0.9416080137433032 and parameters: {'depth': 3, 'learning_rate': 0.3, 'iterations': 1300}. Best is trial 9 with value: 0.9416080137433032.\n",
      "[0.9409465307831913, 0.9429010191260645, 0.9415747591791149, 0.9392014519056261, 0.9456233421750663, 0.9417841686444227, 0.9415706806282722, 0.9392670157068063, 0.942129144851658, 0.9410820244328097]\n",
      "[I 2024-12-02 18:51:25,024] Trial 10 finished with value: 0.9416080137433032 and parameters: {'depth': 3, 'learning_rate': 0.3, 'iterations': 1300}. Best is trial 9 with value: 0.9416080137433032.\n",
      "[0.9409465307831913, 0.9429010191260645, 0.9415747591791149, 0.9392014519056261, 0.9456233421750663, 0.9417841686444227, 0.9415706806282722, 0.9392670157068063, 0.942129144851658, 0.9410820244328097]\n",
      "[I 2024-12-02 19:03:00,798] Trial 11 finished with value: 0.9416080137433032 and parameters: {'depth': 3, 'learning_rate': 0.3, 'iterations': 1300}. Best is trial 9 with value: 0.9416080137433032.\n",
      "[0.9409465307831913, 0.9429010191260645, 0.9415747591791149, 0.9392014519056261, 0.9456233421750663, 0.9417841686444227, 0.9415706806282722, 0.9392670157068063, 0.942129144851658, 0.9410820244328097]\n",
      "[I 2024-12-02 19:14:41,136] Trial 12 finished with value: 0.9416080137433032 and parameters: {'depth': 3, 'learning_rate': 0.3, 'iterations': 1300}. Best is trial 9 with value: 0.9416080137433032.\n",
      "[0.9409465307831913, 0.9429010191260645, 0.9415747591791149, 0.9392014519056261, 0.9456233421750663, 0.9417841686444227, 0.9415706806282722, 0.9392670157068063, 0.942129144851658, 0.9410820244328097]\n",
      "[I 2024-12-02 19:26:15,210] Trial 13 finished with value: 0.9416080137433032 and parameters: {'depth': 3, 'learning_rate': 0.3, 'iterations': 1300}. Best is trial 9 with value: 0.9416080137433032.\n",
      "[0.9409465307831913, 0.9429010191260645, 0.9415747591791149, 0.9392014519056261, 0.9456233421750663, 0.9417841686444227, 0.9415706806282722, 0.9392670157068063, 0.942129144851658, 0.9410820244328097]\n",
      "[I 2024-12-02 19:37:45,760] Trial 14 finished with value: 0.9416080137433032 and parameters: {'depth': 3, 'learning_rate': 0.3, 'iterations': 1300}. Best is trial 9 with value: 0.9416080137433032.\n",
      "[0.9410861370933966, 0.9429708222811671, 0.9416445623342176, 0.9378053888035739, 0.9456931453301689, 0.9401088929219601, 0.9421989528795811, 0.9393368237347295, 0.9415008726003491, 0.9427574171029668]\n",
      "[I 2024-12-02 19:51:32,611] Trial 15 finished with value: 0.9415103015082111 and parameters: {'depth': 6, 'learning_rate': 0.3, 'iterations': 1100}. Best is trial 9 with value: 0.9416080137433032.\n",
      "[0.9409465307831913, 0.9429010191260645, 0.9415747591791149, 0.9392014519056261, 0.9456233421750663, 0.9417841686444227, 0.9415706806282722, 0.9392670157068063, 0.942129144851658, 0.9410820244328097]\n",
      "[I 2024-12-02 20:02:33,772] Trial 16 finished with value: 0.9416080137433032 and parameters: {'depth': 3, 'learning_rate': 0.3, 'iterations': 1300}. Best is trial 9 with value: 0.9416080137433032.\n",
      "[0.9396900739913444, 0.9420633812648331, 0.9417143654893201, 0.9381544045790869, 0.9459723579505793, 0.9401088929219601, 0.9415008726003491, 0.9400349040139616, 0.9419895287958115, 0.9407329842931937]\n",
      "[I 2024-12-02 20:13:42,032] Trial 17 finished with value: 0.941196176590044 and parameters: {'depth': 3, 'learning_rate': 0.1, 'iterations': 1300}. Best is trial 9 with value: 0.9416080137433032.\n",
      "[0.9398296803015497, 0.9421331844199358, 0.9415747591791149, 0.9363395225464191, 0.9443668853832193, 0.9387128298199079, 0.9402443280977313, 0.9370331588132635, 0.9408726003490402, 0.9404537521815008]\n",
      "[I 2024-12-02 20:42:50,108] Trial 18 finished with value: 0.9401560701091682 and parameters: {'depth': 10, 'learning_rate': 0.3, 'iterations': 1300}. Best is trial 9 with value: 0.9416080137433032.\n",
      "[0.9410861370933966, 0.9429708222811671, 0.9416445623342176, 0.9378053888035739, 0.9456931453301689, 0.9401088929219601, 0.9421989528795811, 0.9393368237347295, 0.9415008726003491, 0.9427574171029668]\n",
      "[I 2024-12-02 20:56:58,845] Trial 19 finished with value: 0.9415103015082111 and parameters: {'depth': 6, 'learning_rate': 0.3, 'iterations': 1100}. Best is trial 9 with value: 0.9416080137433032.\n",
      "[0.9396900739913444, 0.9415049560240123, 0.9415049560240123, 0.9377355856484713, 0.9456233421750663, 0.9399692866117548, 0.9414310645724259, 0.9396160558464224, 0.9419895287958115, 0.9407329842931937]\n",
      "[I 2024-12-02 21:03:38,713] Trial 20 finished with value: 0.9409797833982514 and parameters: {'depth': 3, 'learning_rate': 0.1, 'iterations': 800}. Best is trial 9 with value: 0.9416080137433032.\n",
      "[0.9409465307831913, 0.9429010191260645, 0.9415747591791149, 0.9392014519056261, 0.9456233421750663, 0.9417841686444227, 0.9415706806282722, 0.9392670157068063, 0.942129144851658, 0.9410820244328097]\n",
      "[I 2024-12-02 21:14:43,744] Trial 21 finished with value: 0.9416080137433032 and parameters: {'depth': 3, 'learning_rate': 0.3, 'iterations': 1300}. Best is trial 9 with value: 0.9416080137433032.\n",
      "[0.9409465307831913, 0.9429010191260645, 0.9415747591791149, 0.9392014519056261, 0.9456233421750663, 0.9417841686444227, 0.9415706806282722, 0.9392670157068063, 0.942129144851658, 0.9410820244328097]\n",
      "[I 2024-12-02 21:25:48,361] Trial 22 finished with value: 0.9416080137433032 and parameters: {'depth': 3, 'learning_rate': 0.3, 'iterations': 1300}. Best is trial 9 with value: 0.9416080137433032.\n",
      "[0.9409465307831913, 0.9429010191260645, 0.9415747591791149, 0.9392014519056261, 0.9456233421750663, 0.9417841686444227, 0.9415706806282722, 0.9392670157068063, 0.942129144851658, 0.9410820244328097]\n",
      "[I 2024-12-02 21:36:48,902] Trial 23 finished with value: 0.9416080137433032 and parameters: {'depth': 3, 'learning_rate': 0.3, 'iterations': 1300}. Best is trial 9 with value: 0.9416080137433032.\n",
      "[0.9409465307831913, 0.9429010191260645, 0.9415747591791149, 0.9392014519056261, 0.9456233421750663, 0.9417841686444227, 0.9415706806282722, 0.9392670157068063, 0.942129144851658, 0.9410820244328097]\n",
      "[I 2024-12-02 21:47:42,865] Trial 24 finished with value: 0.9416080137433032 and parameters: {'depth': 3, 'learning_rate': 0.3, 'iterations': 1300}. Best is trial 9 with value: 0.9416080137433032.\n",
      "[0.9409465307831913, 0.9429010191260645, 0.9415747591791149, 0.9392014519056261, 0.9456233421750663, 0.9417841686444227, 0.9415706806282722, 0.9392670157068063, 0.942129144851658, 0.9410820244328097]\n",
      "[I 2024-12-02 21:58:39,587] Trial 25 finished with value: 0.9416080137433032 and parameters: {'depth': 3, 'learning_rate': 0.3, 'iterations': 1300}. Best is trial 9 with value: 0.9416080137433032.\n",
      "[0.9409465307831913, 0.9429010191260645, 0.9415747591791149, 0.9392014519056261, 0.9456233421750663, 0.9417841686444227, 0.9415706806282722, 0.9392670157068063, 0.942129144851658, 0.9410820244328097]\n",
      "[I 2024-12-02 22:09:27,614] Trial 26 finished with value: 0.9416080137433032 and parameters: {'depth': 3, 'learning_rate': 0.3, 'iterations': 1300}. Best is trial 9 with value: 0.9416080137433032.\n",
      "[0.9409465307831913, 0.9429010191260645, 0.9415747591791149, 0.9392014519056261, 0.9456233421750663, 0.9417841686444227, 0.9415706806282722, 0.9392670157068063, 0.942129144851658, 0.9410820244328097]\n",
      "[I 2024-12-02 22:20:34,919] Trial 27 finished with value: 0.9416080137433032 and parameters: {'depth': 3, 'learning_rate': 0.3, 'iterations': 1300}. Best is trial 9 with value: 0.9416080137433032.\n",
      "[0.9398296803015497, 0.9421331844199358, 0.9415747591791149, 0.9363395225464191, 0.9443668853832193, 0.9387128298199079, 0.9402443280977313, 0.9370331588132635, 0.9408726003490402, 0.9404537521815008]\n",
      "[I 2024-12-02 22:39:13,635] Trial 28 finished with value: 0.9401560701091682 and parameters: {'depth': 10, 'learning_rate': 0.3, 'iterations': 800}. Best is trial 9 with value: 0.9416080137433032.\n",
      "[0.941923774954628, 0.9421331844199358, 0.9419935781097306, 0.938852436130113, 0.9457629484852715, 0.9404579086974731, 0.9415008726003491, 0.9386387434554974, 0.9412216404886562, 0.941151832460733]\n",
      "[I 2024-12-02 22:53:01,450] Trial 29 finished with value: 0.9413636919802387 and parameters: {'depth': 6, 'learning_rate': 0.1, 'iterations': 1100}. Best is trial 9 with value: 0.9416080137433032.\n"
     ]
    }
   ],
   "source": [
    "# Define the Optuna objective function for CatBoost\n",
    "def objective(trial):\n",
    "    # Suggest values for the hyperparameters for CatBoost\n",
    "    param = {\n",
    "        'objective': 'Logloss',\n",
    "        'eval_metric': 'Accuracy',\n",
    "        'depth': trial.suggest_categorical('depth', [3, 6, 10]),\n",
    "        'learning_rate': trial.suggest_categorical('learning_rate', [0.03, 0.1, 0.3]),\n",
    "        'iterations': trial.suggest_categorical('iterations', [800, 1100, 1300, 1500]),\n",
    "        'random_seed': 42,\n",
    "        'verbose': False\n",
    "    }\n",
    "\n",
    "    # Initialize StratifiedKFold\n",
    "    skf = StratifiedKFold(n_splits=10, shuffle=True, random_state=42)\n",
    "    accuracy_scores = []\n",
    "\n",
    "    # Perform stratified k-fold cross-validation\n",
    "    for train_idx, val_idx in skf.split(X_train, y_train):\n",
    "        X_train_fold, X_val_fold = X_train.iloc[train_idx], X_train.iloc[val_idx]\n",
    "        y_train_fold, y_val_fold = y_train.iloc[train_idx], y_train.iloc[val_idx]\n",
    "\n",
    "        # Initialize the CatBoost model with the parameters\n",
    "        model = CatBoostClassifier(**param)\n",
    "\n",
    "        # Train the model\n",
    "        model.fit(X_train_fold, y_train_fold, eval_set=(X_val_fold, y_val_fold), cat_features=categorical_columns, verbose=0)\n",
    "\n",
    "        # Predict probabilities on the validation fold\n",
    "        preds = model.predict(X_val_fold)\n",
    "\n",
    "        # Calculate accuracy and store the result\n",
    "        fold_accuracy = accuracy_score(y_val_fold, preds)\n",
    "        accuracy_scores.append(fold_accuracy)\n",
    "\n",
    "    # Return the mean accuracy across all folds\n",
    "    print(accuracy_scores)\n",
    "    return np.mean(accuracy_scores)\n",
    "\n",
    "# Set up the Optuna study and start the tuning process\n",
    "study = optuna.create_study(direction='maximize')\n",
    "study.optimize(objective, n_trials=30, show_progress_bar=True)"
   ]
  },
  {
   "cell_type": "markdown",
   "metadata": {},
   "source": [
    "Result of the grid search:\n",
    "```\n",
    "{'depth': 3, 'learning_rate': 0.3, 'iterations': 1300}\n",
    "```"
   ]
  },
  {
   "cell_type": "code",
   "execution_count": 59,
   "metadata": {},
   "outputs": [],
   "source": [
    "# Step 1: Retrieve the best hyperparameters from both studies\n",
    "best_params = study.best_params  # The first grid search results\n",
    "best_params = {'depth': 3,\n",
    " 'learning_rate': 0.3,\n",
    " 'iterations': 1100,\n",
    " 'objective': 'Logloss',\n",
    " 'eval_metric': 'Logloss',\n",
    " 'verbose': 0}\n",
    "\n",
    "# Add the fixed parameters that weren't part of the grid search\n",
    "best_params['objective'] = 'Logloss'  # CatBoost equivalent of binary logistic loss\n",
    "best_params['eval_metric'] = 'Logloss'  # Evaluation metric for binary classification\n",
    "best_params['verbose'] = 0  # To reduce output during training\n",
    "\n",
    "# Step 2: Train the model on the full training set using the combined best parameters\n",
    "# Define the CatBoostClassifier with the best parameters\n",
    "final_model = CatBoostClassifier(**best_params)\n",
    "\n",
    "# Fit the final model on the full training set\n",
    "final_model.fit(X_train, y_train, cat_features=categorical_columns)\n",
    "\n",
    "# Step 3: Prepare the test set and make predictions\n",
    "# Predict continuous probabilities for train and test sets\n",
    "y_train_pred_cont = final_model.predict_proba(X_train)[:, 1]  # Probability for class 1\n",
    "y_test_pred_cont = final_model.predict_proba(X_test)[:, 1]  \n"
   ]
  },
  {
   "cell_type": "code",
   "execution_count": null,
   "metadata": {},
   "outputs": [],
   "source": [
    "max_score = 0\n",
    "score_list = []\n",
    "n_list = []\n",
    "for n in np.arange(0.3, 0.7, 0.001):\n",
    "    y_train_pred = (y_train_pred_cont >= n).astype(int)\n",
    "    scoring = accuracy_score(y_train, y_train_pred)\n",
    "    n_list.append(n)\n",
    "    score_list.append(scoring)\n",
    "\n",
    "    if scoring > max_score:\n",
    "        max_score = scoring\n",
    "        best_n = n\n",
    "print(f'{best_n}    {max_score}')  \n",
    "# pd.DataFrame({'n':n_list,'score':score_list}) # Dataframe with scores for each threshold"
   ]
  },
  {
   "cell_type": "code",
   "execution_count": null,
   "metadata": {},
   "outputs": [],
   "source": [
    "# Convert probabilities to binary class predictions with a threshold\n",
    "y_train_pred = (y_train_pred_cont >= best_n).astype(int)\n",
    "y_test_pred = (y_test_pred_cont >= best_n).astype(int)"
   ]
  },
  {
   "cell_type": "code",
   "execution_count": 65,
   "metadata": {},
   "outputs": [],
   "source": [
    "final = pd.DataFrame({\"id\":id_test, \"Depression\":y_test_pred})\n",
    "final['id'] = final['id'] + 140700\n",
    "final.to_csv(\"final.csv\", index=False)"
   ]
  }
 ],
 "metadata": {
  "kernelspec": {
   "display_name": "Python 3",
   "language": "python",
   "name": "python3"
  },
  "language_info": {
   "codemirror_mode": {
    "name": "ipython",
    "version": 3
   },
   "file_extension": ".py",
   "mimetype": "text/x-python",
   "name": "python",
   "nbconvert_exporter": "python",
   "pygments_lexer": "ipython3",
   "version": "3.12.2"
  }
 },
 "nbformat": 4,
 "nbformat_minor": 2
}
